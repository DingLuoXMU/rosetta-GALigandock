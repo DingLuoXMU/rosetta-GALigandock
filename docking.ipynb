{
 "cells": [
  {
   "cell_type": "markdown",
   "metadata": {},
   "source": [
    "## 处理mol2文件"
   ]
  },
  {
   "cell_type": "code",
   "execution_count": 6,
   "metadata": {},
   "outputs": [],
   "source": [
    "\n",
    "\n",
    "mol2file = \"./input/4ek3_lig\"\n",
    "pdbfile = \"./input/4ek3_pro_fix\""
   ]
  },
  {
   "cell_type": "markdown",
   "metadata": {},
   "source": [
    "### 得到小分子的bcc电荷以及pdb复合物"
   ]
  },
  {
   "cell_type": "code",
   "execution_count": 7,
   "metadata": {},
   "outputs": [
    {
     "data": {
      "text/plain": [
       "256"
      ]
     },
     "execution_count": 7,
     "metadata": {},
     "output_type": "execute_result"
    }
   ],
   "source": [
    "# get bcc charges\n",
    "os.system(\"~/miniconda3/envs/ambertools/bin/antechamber -i %s.mol2 -fi mol2 -o %s.mol2 -fo mol2 -c bcc -nc 0\" % (mol2file, mol2file))"
   ]
  },
  {
   "cell_type": "code",
   "execution_count": 8,
   "metadata": {},
   "outputs": [
    {
     "data": {
      "text/plain": [
       "0"
      ]
     },
     "execution_count": 8,
     "metadata": {},
     "output_type": "execute_result"
    }
   ],
   "source": [
    "os.system(\"cat %s.pdb %s_0001.pdb > complex.pdb\" % (pdbfile, mol2file))"
   ]
  },
  {
   "cell_type": "markdown",
   "metadata": {},
   "source": [
    "## GALigandDock Protocol"
   ]
  },
  {
   "cell_type": "code",
   "execution_count": 9,
   "metadata": {},
   "outputs": [
    {
     "name": "stdout",
     "output_type": "stream",
     "text": [
      "Requirement already satisfied: pyrosettacolabsetup in /home/luod/miniconda3/envs/pyrosetta2019/lib/python3.6/site-packages (1.0.9)\n"
     ]
    }
   ],
   "source": [
    "import logging\n",
    "logging.basicConfig(level=logging.INFO)\n",
    "import matplotlib\n",
    "%matplotlib inline\n",
    "import os\n",
    "import pandas as pd\n",
    "import pyrosetta\n",
    "import pyrosetta.distributed\n",
    "import pyrosetta.distributed.io as io\n",
    "import pyrosetta.distributed.viewer as viewer\n",
    "import pyrosetta.distributed.packed_pose as packed_pose\n",
    "import pyrosetta.distributed.tasks.rosetta_scripts as rosetta_scripts\n",
    "import seaborn\n",
    "seaborn.set()\n",
    "import sys\n",
    "\n",
    "!pip install pyrosettacolabsetup\n",
    "import pyrosettacolabsetup; pyrosettacolabsetup.install_pyrosetta()\n",
    "import pyrosetta"
   ]
  },
  {
   "cell_type": "code",
   "execution_count": 10,
   "metadata": {},
   "outputs": [
    {
     "name": "stderr",
     "output_type": "stream",
     "text": [
      "INFO:rosetta:core.conformation.Conformation: {0} [ WARNING ] missing heavyatom:  CG  on residue GLU 73\n",
      "INFO:rosetta:core.conformation.Conformation: {0} [ WARNING ] missing heavyatom:  CD  on residue GLU 73\n",
      "INFO:rosetta:core.conformation.Conformation: {0} [ WARNING ] missing heavyatom:  OE1 on residue GLU 73\n",
      "INFO:rosetta:core.conformation.Conformation: {0} [ WARNING ] missing heavyatom:  OE2 on residue GLU 73\n",
      "INFO:rosetta:core.conformation.Conformation: {0} [ WARNING ] missing heavyatom:  CG  on residue ASN 74\n",
      "INFO:rosetta:core.conformation.Conformation: {0} [ WARNING ] missing heavyatom:  OD1 on residue ASN 74\n",
      "INFO:rosetta:core.conformation.Conformation: {0} [ WARNING ] missing heavyatom:  ND2 on residue ASN 74\n",
      "INFO:rosetta:core.conformation.Conformation: {0} [ WARNING ] missing heavyatom:  CG  on residue LYS 75\n",
      "INFO:rosetta:core.conformation.Conformation: {0} [ WARNING ] missing heavyatom:  CD  on residue LYS 75\n",
      "INFO:rosetta:core.conformation.Conformation: {0} [ WARNING ] missing heavyatom:  CE  on residue LYS 75\n",
      "INFO:rosetta:core.conformation.Conformation: {0} [ WARNING ] missing heavyatom:  NZ  on residue LYS 75\n",
      "INFO:rosetta:core.conformation.Conformation: {0} [ WARNING ] missing heavyatom:  OXT on residue LEU:CtermProteinFull 296\n"
     ]
    },
    {
     "ename": "RuntimeError",
     "evalue": "Trying to save an unregistered polymorphic type (core::scoring::GenBondedExclInfo).\nMake sure your type is registered with CEREAL_REGISTER_TYPE and that the archive you are using was included (and registered with CEREAL_REGISTER_ARCHIVE) prior to calling CEREAL_REGISTER_TYPE.\nIf your type is already registered and you still see this error, you may need to use CEREAL_REGISTER_DYNAMIC_INIT.",
     "output_type": "error",
     "traceback": [
      "\u001b[0;31m---------------------------------------------------------------------------\u001b[0m",
      "\u001b[0;31mRuntimeError\u001b[0m                              Traceback (most recent call last)",
      "\u001b[0;32m<ipython-input-10-febf4e7a48a7>\u001b[0m in \u001b[0;36m<module>\u001b[0;34m\u001b[0m\n\u001b[1;32m      8\u001b[0m \"\"\"\n\u001b[1;32m      9\u001b[0m \u001b[0mpyrosetta\u001b[0m\u001b[0;34m.\u001b[0m\u001b[0mdistributed\u001b[0m\u001b[0;34m.\u001b[0m\u001b[0minit\u001b[0m\u001b[0;34m(\u001b[0m\u001b[0mflags\u001b[0m\u001b[0;34m)\u001b[0m\u001b[0;34m\u001b[0m\u001b[0;34m\u001b[0m\u001b[0m\n\u001b[0;32m---> 10\u001b[0;31m \u001b[0mpose_obj\u001b[0m \u001b[0;34m=\u001b[0m \u001b[0mio\u001b[0m\u001b[0;34m.\u001b[0m\u001b[0mpose_from_file\u001b[0m\u001b[0;34m(\u001b[0m\u001b[0mfilename\u001b[0m\u001b[0;34m=\u001b[0m\u001b[0mpdb_filename\u001b[0m\u001b[0;34m)\u001b[0m\u001b[0;34m\u001b[0m\u001b[0;34m\u001b[0m\u001b[0m\n\u001b[0m",
      "\u001b[0;32m~/miniconda3/envs/pyrosetta2019/lib/python3.6/site-packages/pyrosetta/distributed/__init__.py\u001b[0m in \u001b[0;36mfwrap\u001b[0;34m(*args, **kwargs)\u001b[0m\n\u001b[1;32m     85\u001b[0m         \u001b[0mmaybe_init\u001b[0m\u001b[0;34m(\u001b[0m\u001b[0;34m)\u001b[0m\u001b[0;34m\u001b[0m\u001b[0;34m\u001b[0m\u001b[0m\n\u001b[1;32m     86\u001b[0m \u001b[0;34m\u001b[0m\u001b[0m\n\u001b[0;32m---> 87\u001b[0;31m         \u001b[0;32mreturn\u001b[0m \u001b[0mfunc\u001b[0m\u001b[0;34m(\u001b[0m\u001b[0;34m*\u001b[0m\u001b[0margs\u001b[0m\u001b[0;34m,\u001b[0m \u001b[0;34m**\u001b[0m\u001b[0mkwargs\u001b[0m\u001b[0;34m)\u001b[0m\u001b[0;34m\u001b[0m\u001b[0;34m\u001b[0m\u001b[0m\n\u001b[0m\u001b[1;32m     88\u001b[0m \u001b[0;34m\u001b[0m\u001b[0m\n\u001b[1;32m     89\u001b[0m     \u001b[0;32mreturn\u001b[0m \u001b[0mfwrap\u001b[0m\u001b[0;34m\u001b[0m\u001b[0;34m\u001b[0m\u001b[0m\n",
      "\u001b[0;32m~/miniconda3/envs/pyrosetta2019/lib/python3.6/site-packages/pyrosetta/distributed/packed_pose/core.py\u001b[0m in \u001b[0;36mwrap\u001b[0;34m(*args, **kwargs)\u001b[0m\n\u001b[1;32m     74\u001b[0m     \u001b[0;34m@\u001b[0m\u001b[0mfunctools\u001b[0m\u001b[0;34m.\u001b[0m\u001b[0mwraps\u001b[0m\u001b[0;34m(\u001b[0m\u001b[0mfunc\u001b[0m\u001b[0;34m)\u001b[0m\u001b[0;34m\u001b[0m\u001b[0;34m\u001b[0m\u001b[0m\n\u001b[1;32m     75\u001b[0m     \u001b[0;32mdef\u001b[0m \u001b[0mwrap\u001b[0m\u001b[0;34m(\u001b[0m\u001b[0;34m*\u001b[0m\u001b[0margs\u001b[0m\u001b[0;34m,\u001b[0m \u001b[0;34m**\u001b[0m\u001b[0mkwargs\u001b[0m\u001b[0;34m)\u001b[0m\u001b[0;34m:\u001b[0m\u001b[0;34m\u001b[0m\u001b[0;34m\u001b[0m\u001b[0m\n\u001b[0;32m---> 76\u001b[0;31m         \u001b[0;32mreturn\u001b[0m \u001b[0mto_packed\u001b[0m\u001b[0;34m(\u001b[0m\u001b[0mfunc\u001b[0m\u001b[0;34m(\u001b[0m\u001b[0;34m*\u001b[0m\u001b[0margs\u001b[0m\u001b[0;34m,\u001b[0m \u001b[0;34m**\u001b[0m\u001b[0mkwargs\u001b[0m\u001b[0;34m)\u001b[0m\u001b[0;34m)\u001b[0m\u001b[0;34m\u001b[0m\u001b[0;34m\u001b[0m\u001b[0m\n\u001b[0m\u001b[1;32m     77\u001b[0m \u001b[0;34m\u001b[0m\u001b[0m\n\u001b[1;32m     78\u001b[0m     \u001b[0;32mreturn\u001b[0m \u001b[0mwrap\u001b[0m\u001b[0;34m\u001b[0m\u001b[0;34m\u001b[0m\u001b[0m\n",
      "\u001b[0;32m~/miniconda3/envs/pyrosetta2019/lib/python3.6/functools.py\u001b[0m in \u001b[0;36mwrapper\u001b[0;34m(*args, **kw)\u001b[0m\n\u001b[1;32m    805\u001b[0m                             '1 positional argument')\n\u001b[1;32m    806\u001b[0m \u001b[0;34m\u001b[0m\u001b[0m\n\u001b[0;32m--> 807\u001b[0;31m         \u001b[0;32mreturn\u001b[0m \u001b[0mdispatch\u001b[0m\u001b[0;34m(\u001b[0m\u001b[0margs\u001b[0m\u001b[0;34m[\u001b[0m\u001b[0;36m0\u001b[0m\u001b[0;34m]\u001b[0m\u001b[0;34m.\u001b[0m\u001b[0m__class__\u001b[0m\u001b[0;34m)\u001b[0m\u001b[0;34m(\u001b[0m\u001b[0;34m*\u001b[0m\u001b[0margs\u001b[0m\u001b[0;34m,\u001b[0m \u001b[0;34m**\u001b[0m\u001b[0mkw\u001b[0m\u001b[0;34m)\u001b[0m\u001b[0;34m\u001b[0m\u001b[0;34m\u001b[0m\u001b[0m\n\u001b[0m\u001b[1;32m    808\u001b[0m \u001b[0;34m\u001b[0m\u001b[0m\n\u001b[1;32m    809\u001b[0m     \u001b[0mfuncname\u001b[0m \u001b[0;34m=\u001b[0m \u001b[0mgetattr\u001b[0m\u001b[0;34m(\u001b[0m\u001b[0mfunc\u001b[0m\u001b[0;34m,\u001b[0m \u001b[0;34m'__name__'\u001b[0m\u001b[0;34m,\u001b[0m \u001b[0;34m'singledispatch function'\u001b[0m\u001b[0;34m)\u001b[0m\u001b[0;34m\u001b[0m\u001b[0;34m\u001b[0m\u001b[0m\n",
      "\u001b[0;32m~/miniconda3/envs/pyrosetta2019/lib/python3.6/site-packages/pyrosetta/distributed/packed_pose/core.py\u001b[0m in \u001b[0;36mto_packed\u001b[0;34m(pose_or_pack)\u001b[0m\n\u001b[1;32m     81\u001b[0m \u001b[0;34m@\u001b[0m\u001b[0msingledispatch\u001b[0m\u001b[0;34m\u001b[0m\u001b[0;34m\u001b[0m\u001b[0m\n\u001b[1;32m     82\u001b[0m \u001b[0;32mdef\u001b[0m \u001b[0mto_packed\u001b[0m\u001b[0;34m(\u001b[0m\u001b[0mpose_or_pack\u001b[0m\u001b[0;34m)\u001b[0m\u001b[0;34m:\u001b[0m\u001b[0;34m\u001b[0m\u001b[0;34m\u001b[0m\u001b[0m\n\u001b[0;32m---> 83\u001b[0;31m     \u001b[0;32mreturn\u001b[0m \u001b[0mPackedPose\u001b[0m\u001b[0;34m(\u001b[0m\u001b[0mpose_or_pack\u001b[0m\u001b[0;34m)\u001b[0m\u001b[0;34m\u001b[0m\u001b[0;34m\u001b[0m\u001b[0m\n\u001b[0m\u001b[1;32m     84\u001b[0m \u001b[0;34m\u001b[0m\u001b[0m\n\u001b[1;32m     85\u001b[0m \u001b[0;34m\u001b[0m\u001b[0m\n",
      "\u001b[0;32m~/miniconda3/envs/pyrosetta2019/lib/python3.6/site-packages/pyrosetta/distributed/packed_pose/core.py\u001b[0m in \u001b[0;36m__init__\u001b[0;34m(self, pose_or_pack)\u001b[0m\n\u001b[1;32m     39\u001b[0m         \u001b[0;34m\"\"\"Create a packed pose from pose, pack, or pickled bytes.\"\"\"\u001b[0m\u001b[0;34m\u001b[0m\u001b[0;34m\u001b[0m\u001b[0m\n\u001b[1;32m     40\u001b[0m         \u001b[0;32mif\u001b[0m \u001b[0misinstance\u001b[0m\u001b[0;34m(\u001b[0m\u001b[0mpose_or_pack\u001b[0m\u001b[0;34m,\u001b[0m \u001b[0mpose\u001b[0m\u001b[0;34m.\u001b[0m\u001b[0mPose\u001b[0m\u001b[0;34m)\u001b[0m\u001b[0;34m:\u001b[0m\u001b[0;34m\u001b[0m\u001b[0;34m\u001b[0m\u001b[0m\n\u001b[0;32m---> 41\u001b[0;31m             \u001b[0mself\u001b[0m\u001b[0;34m.\u001b[0m\u001b[0mpickled_pose\u001b[0m \u001b[0;34m=\u001b[0m \u001b[0mpickle\u001b[0m\u001b[0;34m.\u001b[0m\u001b[0mdumps\u001b[0m\u001b[0;34m(\u001b[0m\u001b[0mpose_or_pack\u001b[0m\u001b[0;34m)\u001b[0m\u001b[0;34m\u001b[0m\u001b[0;34m\u001b[0m\u001b[0m\n\u001b[0m\u001b[1;32m     42\u001b[0m             \u001b[0mself\u001b[0m\u001b[0;34m.\u001b[0m\u001b[0mscores\u001b[0m \u001b[0;34m=\u001b[0m \u001b[0mdict\u001b[0m\u001b[0;34m(\u001b[0m\u001b[0mpose_or_pack\u001b[0m\u001b[0;34m.\u001b[0m\u001b[0mscores\u001b[0m\u001b[0;34m)\u001b[0m\u001b[0;34m\u001b[0m\u001b[0;34m\u001b[0m\u001b[0m\n\u001b[1;32m     43\u001b[0m \u001b[0;34m\u001b[0m\u001b[0m\n",
      "\u001b[0;32m~/miniconda3/envs/pyrosetta2019/lib/python3.6/site-packages/pyrosetta/bindings/pose.py\u001b[0m in \u001b[0;36m__pose_getstate__\u001b[0;34m(pose)\u001b[0m\n\u001b[1;32m     69\u001b[0m         \u001b[0;32mreturn\u001b[0m \u001b[0m__pose_getstate__\u001b[0m\u001b[0;34m(\u001b[0m\u001b[0mwork_pose\u001b[0m\u001b[0;34m)\u001b[0m\u001b[0;34m\u001b[0m\u001b[0;34m\u001b[0m\u001b[0m\n\u001b[1;32m     70\u001b[0m \u001b[0;34m\u001b[0m\u001b[0m\n\u001b[0;32m---> 71\u001b[0;31m     \u001b[0;32mreturn\u001b[0m \u001b[0m__cereal_getstate__\u001b[0m\u001b[0;34m(\u001b[0m\u001b[0mpose\u001b[0m\u001b[0;34m)\u001b[0m\u001b[0;34m\u001b[0m\u001b[0;34m\u001b[0m\u001b[0m\n\u001b[0m\u001b[1;32m     72\u001b[0m \u001b[0;34m\u001b[0m\u001b[0m\n\u001b[1;32m     73\u001b[0m \u001b[0;34m\u001b[0m\u001b[0m\n",
      "\u001b[0;32m~/miniconda3/envs/pyrosetta2019/lib/python3.6/site-packages/pyrosetta/distributed/__init__.py\u001b[0m in \u001b[0;36mfwrap\u001b[0;34m(*args, **kwargs)\u001b[0m\n\u001b[1;32m     45\u001b[0m         \u001b[0;32mwith\u001b[0m \u001b[0m_access_lock\u001b[0m\u001b[0;34m:\u001b[0m\u001b[0;34m\u001b[0m\u001b[0;34m\u001b[0m\u001b[0m\n\u001b[1;32m     46\u001b[0m             \u001b[0;32mtry\u001b[0m\u001b[0;34m:\u001b[0m\u001b[0;34m\u001b[0m\u001b[0;34m\u001b[0m\u001b[0m\n\u001b[0;32m---> 47\u001b[0;31m                 \u001b[0;32mreturn\u001b[0m \u001b[0mfunc\u001b[0m\u001b[0;34m(\u001b[0m\u001b[0;34m*\u001b[0m\u001b[0margs\u001b[0m\u001b[0;34m,\u001b[0m \u001b[0;34m**\u001b[0m\u001b[0mkwargs\u001b[0m\u001b[0;34m)\u001b[0m\u001b[0;34m\u001b[0m\u001b[0;34m\u001b[0m\u001b[0m\n\u001b[0m\u001b[1;32m     48\u001b[0m             \u001b[0;32mfinally\u001b[0m\u001b[0;34m:\u001b[0m\u001b[0;34m\u001b[0m\u001b[0;34m\u001b[0m\u001b[0m\n\u001b[1;32m     49\u001b[0m                 \u001b[0m_logger\u001b[0m\u001b[0;34m.\u001b[0m\u001b[0mdebug\u001b[0m\u001b[0;34m(\u001b[0m\u001b[0;34m\"with_lock finished: %s\"\u001b[0m\u001b[0;34m,\u001b[0m \u001b[0mfunc\u001b[0m\u001b[0;34m)\u001b[0m\u001b[0;34m\u001b[0m\u001b[0;34m\u001b[0m\u001b[0m\n",
      "\u001b[0;32m~/miniconda3/envs/pyrosetta2019/lib/python3.6/site-packages/pyrosetta/distributed/utility/pickle.py\u001b[0m in \u001b[0;36m__cereal_getstate__\u001b[0;34m(self)\u001b[0m\n\u001b[1;32m     38\u001b[0m \u001b[0;34m\u001b[0m\u001b[0m\n\u001b[1;32m     39\u001b[0m     \u001b[0moss\u001b[0m \u001b[0;34m=\u001b[0m \u001b[0mrosetta\u001b[0m\u001b[0;34m.\u001b[0m\u001b[0mstd\u001b[0m\u001b[0;34m.\u001b[0m\u001b[0mostringstream\u001b[0m\u001b[0;34m(\u001b[0m\u001b[0;34m)\u001b[0m\u001b[0;34m\u001b[0m\u001b[0;34m\u001b[0m\u001b[0m\n\u001b[0;32m---> 40\u001b[0;31m     \u001b[0mself\u001b[0m\u001b[0;34m.\u001b[0m\u001b[0msave\u001b[0m\u001b[0;34m(\u001b[0m\u001b[0mcereal\u001b[0m\u001b[0;34m.\u001b[0m\u001b[0mBinaryOutputArchive\u001b[0m\u001b[0;34m(\u001b[0m\u001b[0moss\u001b[0m\u001b[0;34m)\u001b[0m\u001b[0;34m)\u001b[0m\u001b[0;34m\u001b[0m\u001b[0;34m\u001b[0m\u001b[0m\n\u001b[0m\u001b[1;32m     41\u001b[0m \u001b[0;34m\u001b[0m\u001b[0m\n\u001b[1;32m     42\u001b[0m     result = {\n",
      "\u001b[0;31mRuntimeError\u001b[0m: Trying to save an unregistered polymorphic type (core::scoring::GenBondedExclInfo).\nMake sure your type is registered with CEREAL_REGISTER_TYPE and that the archive you are using was included (and registered with CEREAL_REGISTER_ARCHIVE) prior to calling CEREAL_REGISTER_TYPE.\nIf your type is already registered and you still see this error, you may need to use CEREAL_REGISTER_DYNAMIC_INIT."
     ]
    }
   ],
   "source": [
    "pdb_filename = \"./input/complex.pdb\"\n",
    "ligand_params = f\"{mol2file}.params\"\n",
    "flags = f\"\"\"\n",
    "-ignore_unrecognized_res 1\n",
    "-extra_res_fa {ligand_params}\n",
    "-beta_cart\n",
    "-out:level 200\n",
    "\"\"\"\n",
    "pyrosetta.distributed.init(flags)\n",
    "pose_obj = io.pose_from_file(filename=pdb_filename)"
   ]
  },
  {
   "cell_type": "code",
   "execution_count": null,
   "metadata": {},
   "outputs": [
    {
     "name": "stderr",
     "output_type": "stream",
     "text": [
      "INFO:rosetta:core.conformation.Conformation: [ WARNING ] missing heavyatom:  CG  on residue GLU 73\n",
      "INFO:rosetta:core.conformation.Conformation: [ WARNING ] missing heavyatom:  CD  on residue GLU 73\n",
      "INFO:rosetta:core.conformation.Conformation: [ WARNING ] missing heavyatom:  OE1 on residue GLU 73\n",
      "INFO:rosetta:core.conformation.Conformation: [ WARNING ] missing heavyatom:  OE2 on residue GLU 73\n",
      "INFO:rosetta:core.conformation.Conformation: [ WARNING ] missing heavyatom:  CG  on residue ASN 74\n",
      "INFO:rosetta:core.conformation.Conformation: [ WARNING ] missing heavyatom:  OD1 on residue ASN 74\n",
      "INFO:rosetta:core.conformation.Conformation: [ WARNING ] missing heavyatom:  ND2 on residue ASN 74\n",
      "INFO:rosetta:core.conformation.Conformation: [ WARNING ] missing heavyatom:  CG  on residue LYS 75\n",
      "INFO:rosetta:core.conformation.Conformation: [ WARNING ] missing heavyatom:  CD  on residue LYS 75\n",
      "INFO:rosetta:core.conformation.Conformation: [ WARNING ] missing heavyatom:  CE  on residue LYS 75\n",
      "INFO:rosetta:core.conformation.Conformation: [ WARNING ] missing heavyatom:  NZ  on residue LYS 75\n",
      "INFO:rosetta:core.conformation.Conformation: [ WARNING ] missing heavyatom:  OXT on residue LEU:CtermProteinFull 296\n"
     ]
    }
   ],
   "source": [
    "xml = f\"\"\"\n",
    "<ROSETTASCRIPTS>\n",
    "  <SCOREFXNS>\n",
    "    <ScoreFunction name=\"fa_standard\" weights=\"beta_cart.wts\"/>\n",
    "  </SCOREFXNS>\n",
    "  <MOVERS>\n",
    "    <GALigandDock name=\"dock\"\n",
    "                  scorefxn=\"fa_standard\"\n",
    "                  scorefxn_relax=\"fa_standard\"\n",
    "                  grid_step=\"0.25\"\n",
    "                  padding=\"5.0\"\n",
    "                  hashsize=\"8.0\"\n",
    "                  subhash=\"3\"\n",
    "                  nativepdb=\"{pdb_filename}\"\n",
    "                  final_exact_minimize=\"sc\"\n",
    "                  random_oversample=\"10\"\n",
    "                  rotprob=\"0.9\"\n",
    "                  rotEcut=\"100\"\n",
    "                  sidechains=\"auto\"\n",
    "                  initial_pool=\"{pdb_filename}\">\n",
    "      <Stage repeats=\"10\" npool=\"50\" pmut=\"0.2\" smoothing=\"0.375\" rmsdthreshold=\"2.5\" maxiter=\"50\" pack_cycles=\"100\" ramp_schedule=\"0.1,1.0\"/>\n",
    "      <Stage repeats=\"10\" npool=\"50\" pmut=\"0.2\" smoothing=\"0.375\" rmsdthreshold=\"1.5\" maxiter=\"50\" pack_cycles=\"100\" ramp_schedule=\"0.1,1.0\"/>\n",
    "    </GALigandDock>\n",
    "  </MOVERS>\n",
    "  <PROTOCOLS>\n",
    "    <Add mover=\"dock\"/>\n",
    "  </PROTOCOLS>\n",
    "</ROSETTASCRIPTS>\n",
    "\"\"\"\n",
    "xml_obj = rosetta_scripts.MultioutputRosettaScriptsTask(xml)\n",
    "xml_obj.setup()"
   ]
  },
  {
   "cell_type": "code",
   "execution_count": null,
   "metadata": {},
   "outputs": [
    {
     "name": "stderr",
     "output_type": "stream",
     "text": [
      "INFO:rosetta:core.conformation.Conformation: [ WARNING ] missing heavyatom:  CG  on residue GLU 73\n",
      "INFO:rosetta:core.conformation.Conformation: [ WARNING ] missing heavyatom:  CD  on residue GLU 73\n",
      "INFO:rosetta:core.conformation.Conformation: [ WARNING ] missing heavyatom:  OE1 on residue GLU 73\n",
      "INFO:rosetta:core.conformation.Conformation: [ WARNING ] missing heavyatom:  OE2 on residue GLU 73\n",
      "INFO:rosetta:core.conformation.Conformation: [ WARNING ] missing heavyatom:  CG  on residue ASN 74\n",
      "INFO:rosetta:core.conformation.Conformation: [ WARNING ] missing heavyatom:  OD1 on residue ASN 74\n",
      "INFO:rosetta:core.conformation.Conformation: [ WARNING ] missing heavyatom:  ND2 on residue ASN 74\n",
      "INFO:rosetta:core.conformation.Conformation: [ WARNING ] missing heavyatom:  CG  on residue LYS 75\n",
      "INFO:rosetta:core.conformation.Conformation: [ WARNING ] missing heavyatom:  CD  on residue LYS 75\n",
      "INFO:rosetta:core.conformation.Conformation: [ WARNING ] missing heavyatom:  CE  on residue LYS 75\n",
      "INFO:rosetta:core.conformation.Conformation: [ WARNING ] missing heavyatom:  NZ  on residue LYS 75\n",
      "INFO:rosetta:core.conformation.Conformation: [ WARNING ] missing heavyatom:  OXT on residue LEU:CtermProteinFull 296\n",
      "INFO:rosetta:core.conformation.Conformation: [ WARNING ] missing heavyatom:  CG  on residue GLU 73\n",
      "INFO:rosetta:core.conformation.Conformation: [ WARNING ] missing heavyatom:  CD  on residue GLU 73\n",
      "INFO:rosetta:core.conformation.Conformation: [ WARNING ] missing heavyatom:  OE1 on residue GLU 73\n",
      "INFO:rosetta:core.conformation.Conformation: [ WARNING ] missing heavyatom:  OE2 on residue GLU 73\n",
      "INFO:rosetta:core.conformation.Conformation: [ WARNING ] missing heavyatom:  CG  on residue ASN 74\n",
      "INFO:rosetta:core.conformation.Conformation: [ WARNING ] missing heavyatom:  OD1 on residue ASN 74\n",
      "INFO:rosetta:core.conformation.Conformation: [ WARNING ] missing heavyatom:  ND2 on residue ASN 74\n",
      "INFO:rosetta:core.conformation.Conformation: [ WARNING ] missing heavyatom:  CG  on residue LYS 75\n",
      "INFO:rosetta:core.conformation.Conformation: [ WARNING ] missing heavyatom:  CD  on residue LYS 75\n",
      "INFO:rosetta:core.conformation.Conformation: [ WARNING ] missing heavyatom:  CE  on residue LYS 75\n",
      "INFO:rosetta:core.conformation.Conformation: [ WARNING ] missing heavyatom:  NZ  on residue LYS 75\n",
      "INFO:rosetta:core.conformation.Conformation: [ WARNING ] missing heavyatom:  OXT on residue LEU:CtermProteinFull 296\n",
      "INFO:rosetta:core.scoring.electron_density.ElectronDensity: [ WARNING ] No density map specified\n",
      "\n",
      "ERROR: error!  pharmacophore docking requires reference_pool to be as 'INPUT'!\n",
      "ERROR:: Exit from: /home/benchmark/rosetta/source/src/protocols/ligand_docking/GALigandDock/GALigandDock.cc line: 2566\n",
      "INFO:rosetta:protocols.rosetta_scripts.ParsedProtocol: [ ERROR ] Exception while processing protocol: \n",
      "\n",
      "File: /home/benchmark/rosetta/source/src/protocols/ligand_docking/GALigandDock/GALigandDock.cc:2566\n",
      "[ ERROR ] UtilityExitException\n",
      "ERROR: error!  pharmacophore docking requires reference_pool to be as 'INPUT'!\n"
     ]
    },
    {
     "ename": "RuntimeError",
     "evalue": "\n\nFile: /home/benchmark/rosetta/source/src/protocols/ligand_docking/GALigandDock/GALigandDock.cc:2566\n[ ERROR ] UtilityExitException\nERROR: error!  pharmacophore docking requires reference_pool to be as 'INPUT'!\n\n",
     "output_type": "error",
     "traceback": [
      "\u001b[0;31m---------------------------------------------------------------------------\u001b[0m",
      "\u001b[0;31mRuntimeError\u001b[0m                              Traceback (most recent call last)",
      "File \u001b[0;32m<timed exec>:1\u001b[0m\n",
      "File \u001b[0;32m~/miniconda3/envs/pyrosetta/lib/python3.9/site-packages/pyrosetta/distributed/packed_pose/core.py:162\u001b[0m, in \u001b[0;36m<genexpr>\u001b[0;34m(.0)\u001b[0m\n\u001b[1;32m    160\u001b[0m \u001b[38;5;129m@generic_func\u001b[39m\u001b[38;5;241m.\u001b[39mregister(collections\u001b[38;5;241m.\u001b[39mabc\u001b[38;5;241m.\u001b[39mGenerator)\n\u001b[1;32m    161\u001b[0m \u001b[38;5;28;01mdef\u001b[39;00m \u001b[38;5;21mgenerator_traversal\u001b[39m(generator):\n\u001b[0;32m--> 162\u001b[0m     \u001b[38;5;28;01mreturn\u001b[39;00m (generic_func(v) \u001b[38;5;28;01mfor\u001b[39;00m v \u001b[38;5;129;01min\u001b[39;00m generator)\n",
      "File \u001b[0;32m~/miniconda3/envs/pyrosetta/lib/python3.9/site-packages/pyrosetta/distributed/tasks/rosetta_scripts.py:70\u001b[0m, in \u001b[0;36mMultioutputRosettaScriptsTask.apply\u001b[0;34m(self, pack_or_pose)\u001b[0m\n\u001b[1;32m     67\u001b[0m wpose \u001b[38;5;241m=\u001b[39m packed_pose\u001b[38;5;241m.\u001b[39mto_pose(pack_or_pose)\n\u001b[1;32m     69\u001b[0m \u001b[38;5;28;01mwith\u001b[39;00m \u001b[38;5;28mself\u001b[39m\u001b[38;5;241m.\u001b[39mprotocol_lock:\n\u001b[0;32m---> 70\u001b[0m     \u001b[43mprotocol\u001b[49m\u001b[38;5;241;43m.\u001b[39;49m\u001b[43mapply\u001b[49m\u001b[43m(\u001b[49m\u001b[43mwpose\u001b[49m\u001b[43m)\u001b[49m\n\u001b[1;32m     72\u001b[0m     \u001b[38;5;28;01mif\u001b[39;00m protocol\u001b[38;5;241m.\u001b[39mget_last_move_status() \u001b[38;5;241m!=\u001b[39m moves\u001b[38;5;241m.\u001b[39mMoverStatus\u001b[38;5;241m.\u001b[39mMS_SUCCESS:\n\u001b[1;32m     73\u001b[0m         \u001b[38;5;28;01mreturn\u001b[39;00m\n",
      "\u001b[0;31mRuntimeError\u001b[0m: \n\nFile: /home/benchmark/rosetta/source/src/protocols/ligand_docking/GALigandDock/GALigandDock.cc:2566\n[ ERROR ] UtilityExitException\nERROR: error!  pharmacophore docking requires reference_pool to be as 'INPUT'!\n\n"
     ]
    }
   ],
   "source": [
    "if not os.getenv(\"DEBUG\"):\n",
    "    %time results = list(xml_obj(pose_obj))"
   ]
  }
 ],
 "metadata": {
  "kernelspec": {
   "display_name": "pyrosetta",
   "language": "python",
   "name": "python3"
  },
  "language_info": {
   "codemirror_mode": {
    "name": "ipython",
    "version": 3
   },
   "file_extension": ".py",
   "mimetype": "text/x-python",
   "name": "python",
   "nbconvert_exporter": "python",
   "pygments_lexer": "ipython3",
   "version": "3.6.13"
  }
 },
 "nbformat": 4,
 "nbformat_minor": 2
}
